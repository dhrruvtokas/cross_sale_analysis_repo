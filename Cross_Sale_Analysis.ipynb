{
 "cells": [
  {
   "cell_type": "markdown",
   "id": "9e514c66",
   "metadata": {},
   "source": [
    "# Cross Sale Analysis - Predicting New Products "
   ]
  },
  {
   "cell_type": "markdown",
   "id": "e41758bf",
   "metadata": {},
   "source": [
    "## 1. Importing Required Libraries"
   ]
  },
  {
   "cell_type": "code",
   "execution_count": null,
   "id": "862eda6d",
   "metadata": {},
   "outputs": [],
   "source": [
    "import pandas as pd # For Data Manipulation\n",
    "import numpy as np # For Array Operations\n",
    "import matplotlib.pyplot as plt # For Visualization Using Matplot\n",
    "import seaborn as sns # For Visualization Using Seaborn\n",
    "from sklearn.model_selection import train_test_split # For Spliiting Dataset Into Test And Training\n",
    "from sklearn.preprocessing import StandardScaler # For Scaling\n",
    "from sklearn.naive_bayes import MultinomialNB # For creating a multinomial naive bayes model\n",
    "from sklearn.naive_bayes import ComplementNB # For creating a compliment naive bayes model\n",
    "from sklearn.naive_bayes import GaussianNB # For creating a gaussian naive bayes model\n",
    "from sklearn.naive_bayes import BernoulliNB # For creating a bernoulli naive bayes model\n",
    "from sklearn.linear_model import LogisticRegression, SGDClassifier # For creating a logistic regression and a stochastic gradient descriptionent model\n",
    "from sklearn.svm import LinearSVC # For creating a svc model\n",
    "from sklearn.tree import DecisionTreeClassifier # For creating a decision tree model\n",
    "from sklearn.ensemble import RandomForestClassifier # For creating a random forest tree model\n",
    "from sklearn.neighbors import KNeighborsClassifier # For knn\n",
    "from sklearn.preprocessing import MinMaxScaler # For scaling\n",
    "from sklearn.pipeline import Pipeline # For creating pipeline\n",
    "from sklearn.feature_selection import RFE # For feature selection\n",
    "from sklearn import metrics # For performance evaluation\n",
    "from sklearn.tree import DecisionTreeClassifier # For Decision Tree\n",
    "from sklearn.ensemble import RandomForestClassifier # For Random Forest\n",
    "from sklearn.model_selection import GridSearchCV # For Cross Validation\n",
    "from sklearn.metrics import accuracy_score, f1_score, auc # For Accuracy Score\n",
    "from sklearn.metrics import confusion_matrix # For True and False Positive Values\n",
    "from datetime import datetime # For Datetime Conversion\n",
    "from sklearn.preprocessing import OneHotEncoder # For handling categorical variables using one hot encoder\n",
    "from xgboost import XGBClassifier # For xg boost model\n",
    "from numpy import set_printoptions # For numpy array operations\n",
    "from sklearn.feature_selection import SelectKBest # For feature selection\n",
    "from sklearn.feature_selection import f_classif # For feature classification\n",
    "import pyodbc # For Making A SQL Connection\n",
    "import heapq # For selecting maximum from a list\n",
    "import warnings # For Disabling Warnings\n",
    "warnings.filterwarnings('ignore')"
   ]
  },
  {
   "cell_type": "markdown",
   "id": "0336eda5",
   "metadata": {},
   "source": [
    "## 2. Data Wrangling"
   ]
  },
  {
   "cell_type": "code",
   "execution_count": null,
   "id": "c72b7cc1",
   "metadata": {},
   "outputs": [],
   "source": [
    "#Extracting the data based on the columns that we need\n",
    "data = pd.read_csv(\"cp_data.csv\", index_col=False)\n",
    "#data = data.loc[:, ~data.columns.str.contains('^Unnamed')]\n",
    "data"
   ]
  },
  {
   "cell_type": "code",
   "execution_count": null,
   "id": "5ecbbade",
   "metadata": {},
   "outputs": [],
   "source": [
    "data = data.drop('index', 1)"
   ]
  },
  {
   "cell_type": "code",
   "execution_count": null,
   "id": "e4ff4e47",
   "metadata": {},
   "outputs": [],
   "source": [
    "# Checking for null values\n",
    "data.isna().sum()"
   ]
  },
  {
   "cell_type": "code",
   "execution_count": null,
   "id": "3c696b56",
   "metadata": {},
   "outputs": [],
   "source": [
    "len(data.columns)"
   ]
  },
  {
   "cell_type": "code",
   "execution_count": null,
   "id": "a366ffa0",
   "metadata": {},
   "outputs": [],
   "source": [
    "full_data = data"
   ]
  },
  {
   "cell_type": "code",
   "execution_count": null,
   "id": "5371d10a",
   "metadata": {},
   "outputs": [],
   "source": [
    "count_classes = pd.value_counts(data['target'], sort=True)\n",
    "count_classes.plot(kind='bar',rot=0)\n",
    "plt.title(\"Target Class Distribution\")\n",
    "plt.xlabel(\"Class\")\n",
    "plt.ylabel(\"Records\")"
   ]
  },
  {
   "cell_type": "code",
   "execution_count": null,
   "id": "11aa46aa",
   "metadata": {},
   "outputs": [],
   "source": [
    "import statsmodels.api as sm\n",
    "from patsy import dmatrices\n",
    "from statsmodels.stats.outliers_influence import variance_inflation_factor\n",
    "from imblearn.under_sampling import NearMiss\n",
    "from imblearn.over_sampling import SMOTE"
   ]
  },
  {
   "cell_type": "code",
   "execution_count": null,
   "id": "a9cff666",
   "metadata": {},
   "outputs": [],
   "source": [
    "categorical_data = full_data.select_dtypes(exclude=[\"number\",\"bool\"])\n",
    "print(\"Numerical Columns: \", len(full_data.columns)-len(categorical_data.columns))\n",
    "numerical = len(full_data.columns)-len(categorical_data.columns)\n",
    "print(\"Categorical Columns: \", len(full_data.columns)-numerical)"
   ]
  },
  {
   "cell_type": "code",
   "execution_count": null,
   "id": "b395bb9b",
   "metadata": {},
   "outputs": [],
   "source": [
    "categorical_data.columns"
   ]
  },
  {
   "cell_type": "code",
   "execution_count": null,
   "id": "f65bdfc2",
   "metadata": {},
   "outputs": [],
   "source": [
    "fe_1 = full_data.groupby('cp__risk_emp_name').size()/len(full_data)\n",
    "full_data.loc[:, 'cp__risk_emp_name'] = full_data['cp__risk_emp_name'].map(fe_1)\n",
    "full_data[['cp__risk_emp_name']]"
   ]
  },
  {
   "cell_type": "code",
   "execution_count": null,
   "id": "50216944",
   "metadata": {},
   "outputs": [],
   "source": [
    "fe_2 = full_data.groupby('cp__occup_pos_description').size()/len(full_data)\n",
    "full_data.loc[:, 'cp__occup_pos_description'] = full_data['cp__occup_pos_description'].map(fe_2)\n",
    "full_data[['cp__occup_pos_description']]"
   ]
  },
  {
   "cell_type": "code",
   "execution_count": null,
   "id": "1e43fc6b",
   "metadata": {},
   "outputs": [],
   "source": [
    "fe_3 = full_data.groupby('cp__eco_sector_description').size()/len(full_data)\n",
    "full_data.loc[:, 'cp__eco_sector_description'] = full_data['cp__eco_sector_description'].map(fe_3)\n",
    "full_data[['cp__eco_sector_description']]"
   ]
  },
  {
   "cell_type": "code",
   "execution_count": null,
   "id": "1c674d57",
   "metadata": {},
   "outputs": [],
   "source": [
    "fe_4 = full_data.groupby('cp__sub_eco_sector_description').size()/len(full_data)\n",
    "full_data.loc[:, 'cp__sub_eco_sector_description'] = full_data['cp__sub_eco_sector_description'].map(fe_4)\n",
    "full_data[['cp__sub_eco_sector_description']]"
   ]
  },
  {
   "cell_type": "code",
   "execution_count": null,
   "id": "e31b695f",
   "metadata": {},
   "outputs": [],
   "source": [
    "fe_5 = full_data.groupby('cp__customer_id_type_name').size()/len(full_data)\n",
    "full_data.loc[:, 'cp__customer_id_type_name'] = full_data['cp__customer_id_type_name'].map(fe_5)\n",
    "full_data[['cp__customer_id_type_name']]"
   ]
  },
  {
   "cell_type": "code",
   "execution_count": null,
   "id": "c4f4aa1f",
   "metadata": {},
   "outputs": [],
   "source": [
    "fe_6 = full_data.groupby('cp__priority_code_description').size()/len(full_data)\n",
    "full_data.loc[:, 'cp__priority_code_description'] = full_data['cp__priority_code_description'].map(fe_6)\n",
    "full_data[['cp__priority_code_description']]"
   ]
  },
  {
   "cell_type": "code",
   "execution_count": null,
   "id": "4136882b",
   "metadata": {},
   "outputs": [],
   "source": [
    "fe_7 = full_data.groupby('cp__language').size()/len(full_data)\n",
    "full_data.loc[:, 'cp__language'] = full_data['cp__language'].map(fe_7)\n",
    "full_data[['cp__language']]"
   ]
  },
  {
   "cell_type": "code",
   "execution_count": null,
   "id": "e34ba1a2",
   "metadata": {},
   "outputs": [],
   "source": [
    "fe_8 = full_data.groupby('cp__language_name').size()/len(full_data)\n",
    "full_data.loc[:, 'cp__language_name'] = full_data['cp__language_name'].map(fe_8)\n",
    "full_data[['cp__language_name']]"
   ]
  },
  {
   "cell_type": "code",
   "execution_count": null,
   "id": "1c506070",
   "metadata": {},
   "outputs": [],
   "source": [
    "fe_9 = full_data.groupby('cp__age_bracket').size()/len(full_data)\n",
    "full_data.loc[:, 'cp__age_bracket'] = full_data['cp__age_bracket'].map(fe_9)\n",
    "full_data[['cp__age_bracket']]"
   ]
  },
  {
   "cell_type": "code",
   "execution_count": null,
   "id": "a7e2070e",
   "metadata": {},
   "outputs": [],
   "source": [
    "fe_10 = full_data.groupby('cp__branch_description').size()/len(full_data)\n",
    "full_data.loc[:, 'cp__branch_description'] = full_data['cp__branch_description'].map(fe_10)\n",
    "full_data[['cp__branch_description']]"
   ]
  },
  {
   "cell_type": "code",
   "execution_count": null,
   "id": "c7abcb4e",
   "metadata": {},
   "outputs": [],
   "source": [
    "fe_11 = full_data.groupby('cp__customer_id_credit_level__pf_past_12_month_level').size()/len(full_data)\n",
    "full_data.loc[:, 'cp__customer_id_credit_level__pf_past_12_month_level'] = full_data['cp__customer_id_credit_level__pf_past_12_month_level'].map(fe_11)\n",
    "full_data[['cp__customer_id_credit_level__pf_past_12_month_level']]"
   ]
  },
  {
   "cell_type": "code",
   "execution_count": null,
   "id": "afa8d085",
   "metadata": {},
   "outputs": [],
   "source": [
    "fe_12 = full_data.groupby('cp__customer_id_credit_level__cc_past_12_month_level').size()/len(full_data)\n",
    "full_data.loc[:, 'cp__customer_id_credit_level__cc_past_12_month_level'] = full_data['cp__customer_id_credit_level__cc_past_12_month_level'].map(fe_12)\n",
    "full_data[['cp__customer_id_credit_level__cc_past_12_month_level']]"
   ]
  },
  {
   "cell_type": "code",
   "execution_count": null,
   "id": "8bd55930",
   "metadata": {},
   "outputs": [],
   "source": [
    "fe_13 = full_data.groupby('cp__customer_id_credit_level__past_12_month_level').size()/len(full_data)\n",
    "full_data.loc[:, 'cp__customer_id_credit_level__past_12_month_level'] = full_data['cp__customer_id_credit_level__past_12_month_level'].map(fe_13)\n",
    "full_data[['cp__customer_id_credit_level__past_12_month_level']]"
   ]
  },
  {
   "cell_type": "code",
   "execution_count": null,
   "id": "720f6af5",
   "metadata": {},
   "outputs": [],
   "source": [
    "fe_14 = full_data.groupby('cp_act__min_other_cp_act_date_open').size()/len(full_data)\n",
    "full_data.loc[:, 'cp_act__min_other_cp_act_date_open'] = full_data['cp_act__min_other_cp_act_date_open'].map(fe_14)\n",
    "full_data[['cp_act__min_other_cp_act_date_open']]"
   ]
  },
  {
   "cell_type": "code",
   "execution_count": null,
   "id": "acfe28da",
   "metadata": {},
   "outputs": [],
   "source": [
    "fe_15 = full_data.groupby('cp_act__max_other_cp_act_date_open').size()/len(full_data)\n",
    "full_data.loc[:, 'cp_act__max_other_cp_act_date_open'] = full_data['cp_act__max_other_cp_act_date_open'].map(fe_15)\n",
    "full_data[['cp_act__max_other_cp_act_date_open']]"
   ]
  },
  {
   "cell_type": "code",
   "execution_count": null,
   "id": "e142c70a",
   "metadata": {},
   "outputs": [],
   "source": [
    "fe_16 = full_data.groupby('remaining__cp_bank_other').size()/len(full_data)\n",
    "full_data.loc[:, 'remaining__cp_bank_other'] = full_data['remaining__cp_bank_other'].map(fe_16)\n",
    "full_data[['remaining__cp_bank_other']]"
   ]
  },
  {
   "cell_type": "code",
   "execution_count": null,
   "id": "94e68a53",
   "metadata": {},
   "outputs": [],
   "source": [
    "fe_17 = full_data.groupby('remaining__cp_capital_investment_fund').size()/len(full_data)\n",
    "full_data.loc[:, 'remaining__cp_capital_investment_fund'] = full_data['remaining__cp_capital_investment_fund'].map(fe_17)\n",
    "full_data[['remaining__cp_capital_investment_fund']]"
   ]
  },
  {
   "cell_type": "code",
   "execution_count": null,
   "id": "0a60511d",
   "metadata": {},
   "outputs": [],
   "source": [
    "fe_18 = full_data.groupby('remaining__cp_capital_total').size()/len(full_data)\n",
    "full_data.loc[:, 'remaining__cp_capital_total'] = full_data['remaining__cp_capital_total'].map(fe_18)\n",
    "full_data[['remaining__cp_capital_total']]"
   ]
  },
  {
   "cell_type": "code",
   "execution_count": null,
   "id": "622a8307",
   "metadata": {},
   "outputs": [],
   "source": [
    "fe_19 = full_data.groupby('cp__all_group_description_debit').size()/len(full_data)\n",
    "full_data.loc[:, 'cp__all_group_description_debit'] = full_data['cp__all_group_description_debit'].map(fe_19)\n",
    "full_data[['cp__all_group_description_debit']]"
   ]
  },
  {
   "cell_type": "code",
   "execution_count": null,
   "id": "ce1a24a6",
   "metadata": {},
   "outputs": [],
   "source": [
    "fe_20 = full_data.groupby('cp__all_group_description_credit').size()/len(full_data)\n",
    "full_data.loc[:, 'cp__all_group_description_credit'] = full_data['cp__all_group_description_credit'].map(fe_20)\n",
    "full_data[['cp__all_group_description_credit']]"
   ]
  },
  {
   "cell_type": "code",
   "execution_count": null,
   "id": "ffe6c46b",
   "metadata": {},
   "outputs": [],
   "source": [
    "fe_21 = full_data.groupby('cp__retiree_group_description_debit').size()/len(full_data)\n",
    "full_data.loc[:, 'cp__retiree_group_description_debit'] = full_data['cp__retiree_group_description_debit'].map(fe_21)\n",
    "full_data[['cp__retiree_group_description_debit']]"
   ]
  },
  {
   "cell_type": "code",
   "execution_count": null,
   "id": "f87c327d",
   "metadata": {},
   "outputs": [],
   "source": [
    "fe_22 = full_data.groupby('cp__retiree_group_description_credit').size()/len(full_data)\n",
    "full_data.loc[:, 'cp__retiree_group_description_credit'] = full_data['cp__retiree_group_description_credit'].map(fe_22)\n",
    "full_data[['cp__retiree_group_description_credit']]"
   ]
  },
  {
   "cell_type": "code",
   "execution_count": null,
   "id": "cfb293d0",
   "metadata": {},
   "outputs": [],
   "source": [
    "fe_23 = full_data.groupby('cp__all_debit_count_consumption_sector').size()/len(full_data)\n",
    "full_data.loc[:, 'cp__all_debit_count_consumption_sector'] = full_data['cp__all_debit_count_consumption_sector'].map(fe_23)\n",
    "full_data[['cp__all_debit_count_consumption_sector']]"
   ]
  },
  {
   "cell_type": "code",
   "execution_count": null,
   "id": "61fc3d73",
   "metadata": {},
   "outputs": [],
   "source": [
    "fe_24 = full_data.groupby('cp__dc_count_preference_sector').size()/len(full_data)\n",
    "full_data.loc[:, 'cp__dc_count_preference_sector'] = full_data['cp__dc_count_preference_sector'].map(fe_24)\n",
    "full_data[['cp__dc_count_preference_sector']]"
   ]
  },
  {
   "cell_type": "code",
   "execution_count": null,
   "id": "9f241a9f",
   "metadata": {},
   "outputs": [],
   "source": [
    "fe_25 = full_data.groupby('cp_ibmb__eop_month').size()/len(full_data)\n",
    "full_data.loc[:, 'cp_ibmb__eop_month'] = full_data['cp_ibmb__eop_month'].map(fe_25)\n",
    "full_data[['cp_ibmb__eop_month']]"
   ]
  },
  {
   "cell_type": "code",
   "execution_count": null,
   "id": "5d5210c4",
   "metadata": {},
   "outputs": [],
   "source": [
    "fe_26 = full_data.groupby('cp_ibmb__past_visit_device').size()/len(full_data)\n",
    "full_data.loc[:, 'cp_ibmb__past_visit_device'] = full_data['cp_ibmb__past_visit_device'].map(fe_26)\n",
    "full_data[['cp_ibmb__past_visit_device']]"
   ]
  },
  {
   "cell_type": "code",
   "execution_count": null,
   "id": "0f798842",
   "metadata": {},
   "outputs": [],
   "source": [
    "fe_27 = full_data.groupby('cp_ibmb__login_in_past_90_days_past_login_date').size()/len(full_data)\n",
    "full_data.loc[:, 'cp_ibmb__login_in_past_90_days_past_login_date'] = full_data['cp_ibmb__login_in_past_90_days_past_login_date'].map(fe_27)\n",
    "full_data[['cp_ibmb__login_in_past_90_days_past_login_date']]"
   ]
  },
  {
   "cell_type": "code",
   "execution_count": null,
   "id": "8e2bf9c6",
   "metadata": {},
   "outputs": [],
   "source": [
    "fe_28 = full_data.groupby('cp_cc__item_take_l1').size()/len(full_data)\n",
    "full_data.loc[:, 'cp_cc__item_take_l1'] = full_data['cp_cc__item_take_l1'].map(fe_28)\n",
    "full_data[['cp_cc__item_take_l1']]"
   ]
  },
  {
   "cell_type": "code",
   "execution_count": null,
   "id": "a7b14820",
   "metadata": {},
   "outputs": [],
   "source": [
    "fe_29 = full_data.groupby('cp_pc__item_take_l1').size()/len(full_data)\n",
    "full_data.loc[:, 'cp_pc__item_take_l1'] = full_data['cp_pc__item_take_l1'].map(fe_29)\n",
    "full_data[['cp_pc__item_take_l1']]"
   ]
  },
  {
   "cell_type": "code",
   "execution_count": null,
   "id": "482bfedd",
   "metadata": {},
   "outputs": [],
   "source": [
    "fe_30 = full_data.groupby('cp_pf__item_take_l1').size()/len(full_data)\n",
    "full_data.loc[:, 'cp_pf__item_take_l1'] = full_data['cp_pf__item_take_l1'].map(fe_30)\n",
    "full_data[['cp_pf__item_take_l1']]"
   ]
  },
  {
   "cell_type": "code",
   "execution_count": null,
   "id": "531e93f8",
   "metadata": {},
   "outputs": [],
   "source": [
    "fe_31 = full_data.groupby('cp_fd__item_take_l1').size()/len(full_data)\n",
    "full_data.loc[:, 'cp_fd__item_take_l1'] = full_data['cp_fd__item_take_l1'].map(fe_31)\n",
    "full_data[['cp_fd__item_take_l1']]"
   ]
  },
  {
   "cell_type": "code",
   "execution_count": null,
   "id": "f60f181c",
   "metadata": {},
   "outputs": [],
   "source": [
    "fe_32 = full_data.groupby('cp_sa__item_take_l1').size()/len(full_data)\n",
    "full_data.loc[:, 'cp_sa__item_take_l1'] = full_data['cp_sa__item_take_l1'].map(fe_32)\n",
    "full_data[['cp_sa__item_take_l1']]"
   ]
  },
  {
   "cell_type": "code",
   "execution_count": null,
   "id": "4212f8a8",
   "metadata": {},
   "outputs": [],
   "source": [
    "fe_33 = full_data.groupby('cp_cc__item_take_l2').size()/len(full_data)\n",
    "full_data.loc[:, 'cp_cc__item_take_l2'] = full_data['cp_cc__item_take_l2'].map(fe_33)\n",
    "full_data[['cp_cc__item_take_l2']]"
   ]
  },
  {
   "cell_type": "code",
   "execution_count": null,
   "id": "48658f4b",
   "metadata": {},
   "outputs": [],
   "source": [
    "fe_34 = full_data.groupby('cp_pc__item_take_l2').size()/len(full_data)\n",
    "full_data.loc[:, 'cp_pc__item_take_l2'] = full_data['cp_pc__item_take_l2'].map(fe_34)\n",
    "full_data[['cp_pc__item_take_l2']]"
   ]
  },
  {
   "cell_type": "code",
   "execution_count": null,
   "id": "8a0c7e1b",
   "metadata": {},
   "outputs": [],
   "source": [
    "fe_35 = full_data.groupby('cp_pf__item_take_l2').size()/len(full_data)\n",
    "full_data.loc[:, 'cp_pf__item_take_l2'] = full_data['cp_pf__item_take_l2'].map(fe_35)\n",
    "full_data[['cp_pf__item_take_l2']]"
   ]
  },
  {
   "cell_type": "code",
   "execution_count": null,
   "id": "af03c361",
   "metadata": {},
   "outputs": [],
   "source": [
    "fe_36 = full_data.groupby('cp_fd__item_take_l2').size()/len(full_data)\n",
    "full_data.loc[:, 'cp_fd__item_take_l2'] = full_data['cp_fd__item_take_l2'].map(fe_36)\n",
    "full_data[['cp_fd__item_take_l2']]"
   ]
  },
  {
   "cell_type": "code",
   "execution_count": null,
   "id": "32542bcb",
   "metadata": {},
   "outputs": [],
   "source": [
    "fe_37 = full_data.groupby('cp_sa__item_take_l2').size()/len(full_data)\n",
    "full_data.loc[:, 'cp_sa__item_take_l2'] = full_data['cp_sa__item_take_l2'].map(fe_37)\n",
    "full_data[['cp_sa__item_take_l2']]"
   ]
  },
  {
   "cell_type": "code",
   "execution_count": null,
   "id": "441131fe",
   "metadata": {},
   "outputs": [],
   "source": [
    "categorical_data = full_data.select_dtypes(exclude=[\"number\",\"bool\"])\n",
    "print(\"Numerical Columns: \", len(full_data.columns)-len(categorical_data.columns))\n",
    "numerical = len(full_data.columns)-len(categorical_data.columns)\n",
    "print(\"Categorical Columns: \", len(full_data.columns)-numerical)"
   ]
  },
  {
   "cell_type": "code",
   "execution_count": null,
   "id": "61f9d5a2",
   "metadata": {},
   "outputs": [],
   "source": [
    "full_data"
   ]
  },
  {
   "cell_type": "code",
   "execution_count": null,
   "id": "5f73d381",
   "metadata": {},
   "outputs": [],
   "source": [
    "correlation_data = full_data.loc[:,full_data.columns !='customer_id']\n",
    "correlation_matrix = correlation_data.corr().abs()"
   ]
  },
  {
   "cell_type": "code",
   "execution_count": null,
   "id": "638a45b1",
   "metadata": {},
   "outputs": [],
   "source": [
    "upper_triangular = correlation_matrix.where(np.triu(np.ones(correlation_matrix.shape),k=1).astype(np.bool))\n",
    "upper_triangular"
   ]
  },
  {
   "cell_type": "code",
   "execution_count": null,
   "id": "b5e04a5f",
   "metadata": {},
   "outputs": [],
   "source": [
    "columns_to_drop_great = [column for column in upper_triangular.columns if any(upper_triangular[column]>0.45)]\n",
    "columns_to_drop_less = [column for column in upper_triangular.columns if any(upper_triangular[column]<=0.0)]\n",
    "columns_to_drop = columns_to_drop_great + columns_to_drop_less\n",
    "columns_to_drop_data = pd.DataFrame()\n",
    "columns_to_drop_data['column'] = columns_to_drop\n",
    "columns_to_drop_data.to_csv(\"columns_to_drop_correlation_matrix.csv\")\n",
    "print(\"Total columns to drop: \", len(columns_to_drop))\n",
    "print(\"Total columns remaining\", len(full_data.columns)-len(columns_to_drop))"
   ]
  },
  {
   "cell_type": "code",
   "execution_count": null,
   "id": "ce2baddc",
   "metadata": {},
   "outputs": [],
   "source": [
    "columns_to_keep = []\n",
    "for i in full_data.columns:\n",
    "    if i not in columns_to_drop:\n",
    "        columns_to_keep.append(i)\n",
    "print(\"Total columns kept (including id): \", len(columns_to_keep))"
   ]
  },
  {
   "cell_type": "code",
   "execution_count": null,
   "id": "0249de43",
   "metadata": {},
   "outputs": [],
   "source": [
    "reserved_data = full_data[columns_to_keep]\n",
    "reserved_data"
   ]
  },
  {
   "cell_type": "code",
   "execution_count": null,
   "id": "6422f01e",
   "metadata": {},
   "outputs": [],
   "source": [
    "train = reserved_data.loc[:,reserved_data.columns !='target']\n",
    "test = reserved_data.loc[:,reserved_data.columns =='target']"
   ]
  },
  {
   "cell_type": "code",
   "execution_count": null,
   "id": "4041bbff",
   "metadata": {
    "scrolled": true
   },
   "outputs": [],
   "source": [
    "train"
   ]
  },
  {
   "cell_type": "code",
   "execution_count": null,
   "id": "4c7d35e4",
   "metadata": {},
   "outputs": [],
   "source": [
    "near_miss = NearMiss()\n",
    "x_near,y_near = near_miss.fit_sample(train, test)"
   ]
  },
  {
   "cell_type": "code",
   "execution_count": null,
   "id": "cf9febf0",
   "metadata": {},
   "outputs": [],
   "source": [
    "smote = SMOTE()\n",
    "x_smote, y_smote = smote.fit_resample(train, test)"
   ]
  },
  {
   "cell_type": "code",
   "execution_count": null,
   "id": "10531195",
   "metadata": {},
   "outputs": [],
   "source": [
    "ols = sm.OLS(x_near,y_near).fit()\n",
    "print(ols.sumonthary())"
   ]
  },
  {
   "cell_type": "code",
   "execution_count": null,
   "id": "30430df5",
   "metadata": {},
   "outputs": [],
   "source": []
  },
  {
   "cell_type": "code",
   "execution_count": null,
   "id": "87fac908",
   "metadata": {},
   "outputs": [],
   "source": [
    "select_features = SelectKBest(score_func=f_classif, k=13)\n",
    "fit = select_features.fit(train, test)\n",
    "# sumontharize scores\n",
    "set_printoptions(precision=3)\n",
    "print(fit.scores_)\n",
    "features = fit.transform(train)\n",
    "# sumontharize selected features\n",
    "print(features[0:5,:])"
   ]
  },
  {
   "cell_type": "code",
   "execution_count": null,
   "id": "af46da96",
   "metadata": {},
   "outputs": [],
   "source": [
    "cols = select_features.get_support(indices=True)\n",
    "features_names = reserved_data.iloc[:,cols]\n",
    "features_names"
   ]
  },
  {
   "cell_type": "code",
   "execution_count": null,
   "id": "d094d536",
   "metadata": {},
   "outputs": [],
   "source": [
    "selected_data = reserved_data[features_names.columns]\n",
    "selected_data['customer_id'] = reserved_data['customer_id']\n",
    "selected_data['target'] = reserved_data['target']\n",
    "selected_data"
   ]
  },
  {
   "cell_type": "code",
   "execution_count": null,
   "id": "b8184d80",
   "metadata": {},
   "outputs": [],
   "source": [
    "train = selected_data.loc[:,selected_data.columns !='target']\n",
    "train = selected_data.loc[:,selected_data.columns !='customer_id']\n",
    "test = selected_data.loc[:,selected_data.columns =='target']"
   ]
  },
  {
   "cell_type": "code",
   "execution_count": null,
   "id": "70524e53",
   "metadata": {},
   "outputs": [],
   "source": [
    "selected_data"
   ]
  },
  {
   "cell_type": "code",
   "execution_count": null,
   "id": "040e042d",
   "metadata": {},
   "outputs": [],
   "source": [
    "len(test)"
   ]
  },
  {
   "cell_type": "code",
   "execution_count": null,
   "id": "71f00923",
   "metadata": {
    "scrolled": true
   },
   "outputs": [],
   "source": [
    "train"
   ]
  },
  {
   "cell_type": "code",
   "execution_count": null,
   "id": "76fe9857",
   "metadata": {},
   "outputs": [],
   "source": [
    "from sklearn.feature_selection import RFECV\n",
    "from sklearn.tree import DecisionTreeClassifier\n",
    "dtree = DecisionTreeClassifier()\n",
    "rfecv = RFECV(estimator=dtree, step=1, scoring=\"neg_mean_squared_error\", cv=4, verbose=1,n_jobs = 4)\n",
    "rfecv.fit(train, test)\n",
    "rfecv.transform(train)\n",
    "print(rfecv)\n",
    "print(rfecv.n_features_)"
   ]
  },
  {
   "cell_type": "code",
   "execution_count": null,
   "id": "50feb007",
   "metadata": {},
   "outputs": [],
   "source": [
    "test_size = 0.8\n",
    "X_train, X_test, y_train, y_test = train_test_split(x_smote, y_smote, test_size=test_size, random_state=0)"
   ]
  },
  {
   "cell_type": "code",
   "execution_count": null,
   "id": "5e0c55c8",
   "metadata": {},
   "outputs": [],
   "source": [
    "train_id = X_test['customer_id']\n",
    "X_train = X_train.loc[:,X_train.columns !='customer_id']\n",
    "X_test = X_test.loc[:,X_test.columns !='customer_id']"
   ]
  },
  {
   "cell_type": "code",
   "execution_count": null,
   "id": "874a4ee8",
   "metadata": {},
   "outputs": [],
   "source": [
    "#rfe = RFE(estimator=LogisticRegression(), step=1)\n",
    "#rfe = rfe.fit(X_train, y_train)"
   ]
  },
  {
   "cell_type": "code",
   "execution_count": null,
   "id": "57b205bc",
   "metadata": {},
   "outputs": [],
   "source": [
    "#selected_rfe_features = pd.DataFrame({'column':list(X_train.columns), 'rank':list(rfe.ranking_)})\n",
    "#selected_rfe_features.sort_values(by='rank')"
   ]
  },
  {
   "cell_type": "code",
   "execution_count": null,
   "id": "48c7216e",
   "metadata": {},
   "outputs": [],
   "source": [
    "#extract_rfe_features = selected_rfe_features.loc[selected_rfe_features['rank'] == 1]\n",
    "#extract_rfe_features"
   ]
  },
  {
   "cell_type": "code",
   "execution_count": null,
   "id": "b03e62c5",
   "metadata": {},
   "outputs": [],
   "source": [
    "#x_train_rfe = rfe.transform(X_train)\n",
    "#x_test_rfe = rfe.transform(X_test)"
   ]
  },
  {
   "cell_type": "code",
   "execution_count": null,
   "id": "b894b44a",
   "metadata": {},
   "outputs": [],
   "source": [
    "logistic_regression_model = LogisticRegression(solver='liblinear', random_state=0)\n",
    "logistic_regression_model.fit(X_train, y_train)\n",
    "logistic_regression_predicted = logistic_regression_model.predict(X_test)\n",
    "logistic_regression_probability = logistic_regression_model.predict_proba(X_test)\n",
    "logistic_regression_accuracy = accuracy_score(y_test, logistic_regression_predicted)\n",
    "logistic_regression_model_accuracy = logistic_regression_model.score(X_test, y_test) \n",
    "logistic_regression_model_accuracy  = (round(logistic_regression_model_accuracy, 2)*100)\n",
    "print(\"Logistic Regression Accuracy: %.2f%%\" % (logistic_regression_accuracy * 100.0))\n",
    "print(\"Model accuracy:\", logistic_regression_model_accuracy, \"%\")"
   ]
  },
  {
   "cell_type": "code",
   "execution_count": null,
   "id": "9c937b4a",
   "metadata": {},
   "outputs": [],
   "source": [
    "logistic_regression_probability_data = pd.DataFrame(logistic_regression_probability)\n",
    "logistic_regression_probability_data"
   ]
  },
  {
   "cell_type": "code",
   "execution_count": null,
   "id": "325be1bb",
   "metadata": {},
   "outputs": [],
   "source": [
    "logistic_regression_data = pd.concat([X_test, y_test], axis=1)\n",
    "logistic_regression_data = logistic_regression_data.reset_index(drop=True)\n",
    "logistic_regression_data[\"predicted\"] = logistic_regression_predicted\n",
    "logistic_regression_data[\"probability_0\"] = logistic_regression_probability_data[0]\n",
    "logistic_regression_data[\"probability_1\"] = logistic_regression_probability_data[1]\n",
    "logistic_regression_data['decile_rank'] = pd.cut(logistic_regression_data['probability_0'], 10, labels=False)\n",
    "logistic_regression_data['customer_id'] = len(list(train_id.values))\n",
    "logistic_regression_data.to_csv(\"logistic_regression_data.csv\")"
   ]
  },
  {
   "cell_type": "code",
   "execution_count": null,
   "id": "04e11193",
   "metadata": {},
   "outputs": [],
   "source": [
    "logistic_regression_data.decile_rank.value_counts()"
   ]
  },
  {
   "cell_type": "code",
   "execution_count": null,
   "id": "f2dcd318",
   "metadata": {},
   "outputs": [],
   "source": [
    "len(logistic_regression_data)"
   ]
  },
  {
   "cell_type": "code",
   "execution_count": null,
   "id": "079504da",
   "metadata": {},
   "outputs": [],
   "source": [
    "predicted_count = pd.DataFrame(logistic_regression_predicted.flatten())\n",
    "predicted_count[0].value_counts()"
   ]
  },
  {
   "cell_type": "code",
   "execution_count": null,
   "id": "0ed74d26",
   "metadata": {},
   "outputs": [],
   "source": [
    "plt.figure(figsize=(10,10))\n",
    "plt.scatter(true_value, predicted_value, c='crimson')\n",
    "plt.yscale('log')\n",
    "plt.xscale('log')\n",
    "\n",
    "p1 = max(max(predicted_value), max(true_value))\n",
    "p2 = min(min(predicted_value), min(true_value))\n",
    "plt.plot([p1, p2], [p1, p2], 'b-')\n",
    "plt.xlabel('True Values', fontsize=15)\n",
    "plt.ylabel('Predictions', fontsize=15)\n",
    "plt.axis('equal')\n",
    "plt.show()"
   ]
  },
  {
   "cell_type": "code",
   "execution_count": null,
   "id": "69c1aaeb",
   "metadata": {},
   "outputs": [],
   "source": []
  },
  {
   "cell_type": "code",
   "execution_count": null,
   "id": "a68c88cf",
   "metadata": {},
   "outputs": [],
   "source": [
    "from sklearn.feature_selection import RFE\n",
    "rfe = RFE(estimator=LogisticRegression(), n_features_to_select=20)\n",
    "model = LogisticRegression()\n",
    "pipeline = Pipeline(steps=[('s',rfe),('m',model)])\n",
    "pipeline.fit(X_train, y_train)\n",
    "pipeline_predicted = pipeline.predict(X_test)\n",
    "pipeline_probability = pipeline.predict_proba(X_test)\n",
    "pipeline_accuracy = accuracy_score(y_test, pipeline_predicted)\n",
    "pipeline_model_accuracy = pipeline.score(X_test, y_test) \n",
    "pipeline_model_accuracy  = (round(pipeline_model_accuracy, 2)*100)\n",
    "print(\"Logistic Regression Accuracy: %.2f%%\" % (pipeline_accuracy * 100.0))\n",
    "print(\"Model accuracy:\", pipeline_model_accuracy, \"%\")"
   ]
  },
  {
   "cell_type": "code",
   "execution_count": null,
   "id": "35d5d1e9",
   "metadata": {},
   "outputs": [],
   "source": [
    "from sklearn.feature_selection import RFE\n",
    "rfe = RFE(estimator=XGBClassifier(), n_features_to_select=20)\n",
    "model = XGBClassifier()\n",
    "pipeline = Pipeline(steps=[('s',rfe),('m',model)])\n",
    "pipeline.fit(X_train, y_train)\n",
    "pipeline_predicted = pipeline.predict(X_test)\n",
    "pipeline_probability = pipeline.predict_proba(X_test)\n",
    "pipeline_accuracy = accuracy_score(y_test, pipeline_predicted)\n",
    "pipeline_model_accuracy = pipeline.score(X_test, y_test) \n",
    "pipeline_model_accuracy  = (round(pipeline_model_accuracy, 2)*100)\n",
    "print(\"Logistic Regression Accuracy: %.2f%%\" % (pipeline_accuracy * 100.0))\n",
    "print(\"Model accuracy:\", pipeline_model_accuracy, \"%\")"
   ]
  },
  {
   "cell_type": "code",
   "execution_count": null,
   "id": "45f47d45",
   "metadata": {
    "scrolled": true
   },
   "outputs": [],
   "source": [
    "reserved_data.target.value_counts()"
   ]
  },
  {
   "cell_type": "code",
   "execution_count": null,
   "id": "4b2a292d",
   "metadata": {},
   "outputs": [],
   "source": [
    "predicted_count = pd.DataFrame(pipeline_predicted.flatten())\n",
    "predicted_count[0].value_counts()"
   ]
  },
  {
   "cell_type": "code",
   "execution_count": null,
   "id": "ce61fd40",
   "metadata": {},
   "outputs": [],
   "source": [
    "pipeline_probability_data = pd.DataFrame(pipeline_probability)\n",
    "pipeline_probability_data"
   ]
  },
  {
   "cell_type": "code",
   "execution_count": null,
   "id": "b1629efe",
   "metadata": {},
   "outputs": [],
   "source": [
    "pipeline_data = pd.concat([X_test, y_test], axis=1)\n",
    "pipeline_data = pipeline_data.reset_index(drop=True)\n",
    "pipeline_data[\"predicted\"] = pipeline_predicted\n",
    "pipeline_data[\"probability_0\"] = pipeline_probability_data[0]\n",
    "pipeline_data[\"probability_1\"] = pipeline_probability_data[1]\n",
    "pipeline_data['decile_rank'] = pd.cut(pipeline_data['probability_0'], 10, labels=False)\n",
    "pipeline_data['customer_id'] = len(list(train_id.values))\n",
    "pipeline_data.to_csv(\"logistic_regression_data.csv\")"
   ]
  },
  {
   "cell_type": "code",
   "execution_count": null,
   "id": "682207fd",
   "metadata": {},
   "outputs": [],
   "source": [
    "pipeline_data.decile_rank.value_counts()"
   ]
  },
  {
   "cell_type": "code",
   "execution_count": null,
   "id": "b521e155",
   "metadata": {},
   "outputs": [],
   "source": [
    "test_size = 0.8\n",
    "X_train, X_test, y_train, y_test = train_test_split(train, test, test_size=test_size, random_state=0)"
   ]
  },
  {
   "cell_type": "code",
   "execution_count": null,
   "id": "b843f9b0",
   "metadata": {},
   "outputs": [],
   "source": [
    "train_id = X_test['customer_id']\n",
    "X_train = X_train.loc[:,X_train.columns !='customer_id']\n",
    "X_test = X_test.loc[:,X_test.columns !='customer_id']"
   ]
  },
  {
   "cell_type": "code",
   "execution_count": null,
   "id": "c18d9e69",
   "metadata": {},
   "outputs": [],
   "source": [
    "xgb_model = XGBClassifier()\n",
    "xgb_model.fit(X_train, y_train)\n",
    "xgb_predicted = xgb_model.predict(X_test)\n",
    "xgb_probability = xgb_model.predict_proba(X_test)\n",
    "xgb_accuracy = accuracy_score(y_test, xgb_predicted)\n",
    "xgb_model_accuracy = xgb_model.score(X_test, y_test) \n",
    "xgb_model_accuracy = (round(xgb_model_accuracy, 2)*100)\n",
    "print(\"XG Boost Accuracy: %.2f%%\" % (xgb_model_accuracy))\n",
    "print(\"Model accuracy:\", xgb_model_accuracy, \"%\")"
   ]
  },
  {
   "cell_type": "code",
   "execution_count": null,
   "id": "b3cfc0df",
   "metadata": {},
   "outputs": [],
   "source": [
    "xgb_probability_data = pd.DataFrame(xgb_probability)\n",
    "xgb_probability_data"
   ]
  },
  {
   "cell_type": "code",
   "execution_count": null,
   "id": "51222695",
   "metadata": {},
   "outputs": [],
   "source": [
    "xgb_data = pd.concat([X_test, y_test], axis=1)\n",
    "xgb_data = xgb_data.reset_index(drop=True)\n",
    "xgb_data[\"predicted\"] = xgb_predicted\n",
    "xgb_data[\"probability_0\"] = xgb_probability_data[0]\n",
    "xgb_data[\"probability_1\"] = xgb_probability_data[1]\n",
    "xgb_data['decile_rank'] = pd.qcut(xgb_data['probability_0'], 10, labels=False)\n",
    "xgb_data['customer_id'] = len(list(train_id.values))\n",
    "xgb_data.to_csv(\"xgb_data.csv\")"
   ]
  },
  {
   "cell_type": "code",
   "execution_count": null,
   "id": "07498afe",
   "metadata": {},
   "outputs": [],
   "source": [
    "from sklearn.preprocessing import MinMaxScaler\n",
    "naive_bayes_model = Pipeline([('Normalizing',MinMaxScaler()),('MultinomialNB',MultinomialNB())])\n",
    "naive_bayes_model.fit(X_train, y_train)\n",
    "naive_bayes_predicted = naive_bayes_model.predict(X_test)\n",
    "naive_bayes_probability = naive_bayes_model.predict_proba(X_test)\n",
    "naive_bayes_accuracy = accuracy_score(y_test, naive_bayes_predicted)\n",
    "naive_bayes_model_accuracy = naive_bayes_model.score(X_test, y_test) \n",
    "naive_bayes_model_accuracy = (round(naive_bayes_model_accuracy, 2)*100)\n",
    "print(\"Naive Bayes Accuracy: %.2f%%\" % (naive_bayes_model_accuracy))\n",
    "print(\"Model accuracy:\", naive_bayes_accuracy, \"%\")"
   ]
  },
  {
   "cell_type": "code",
   "execution_count": null,
   "id": "81388f0b",
   "metadata": {},
   "outputs": [],
   "source": [
    "naive_bayes_probability_data = pd.DataFrame(naive_bayes_probability)\n",
    "naive_bayes_probability_data"
   ]
  },
  {
   "cell_type": "code",
   "execution_count": null,
   "id": "eaa78ec2",
   "metadata": {},
   "outputs": [],
   "source": [
    "naive_bayes_data = pd.concat([X_test, y_test], axis=1)\n",
    "naive_bayes_data = naive_bayes_data.reset_index(drop=True)\n",
    "naive_bayes_data[\"predicted\"] = naive_bayes_predicted\n",
    "naive_bayes_data[\"probability_0\"] = naive_bayes_probability_data[0]\n",
    "naive_bayes_data[\"probability_1\"] = naive_bayes_probability_data[1]\n",
    "naive_bayes_data['decile_rank'] = pd.qcut(naive_bayes_data['probability_0'], 10, labels=False)\n",
    "naive_bayes_data['customer_id'] = len(list(train_id.values))\n",
    "naive_bayes_data.to_csv(\"naive_bayes_data.csv\")"
   ]
  },
  {
   "cell_type": "code",
   "execution_count": null,
   "id": "2f933da0",
   "metadata": {},
   "outputs": [],
   "source": [
    "k_nearest_neighbor_model = Pipeline([('Normalizing',MinMaxScaler()),('KNeighborsClassifier',KNeighborsClassifier())])\n",
    "k_nearest_neighbor_model.fit(X_train, y_train)\n",
    "k_nearest_neighbor_predicted = k_nearest_neighbor_model.predict(X_test)\n",
    "k_nearest_neighbor_probability = k_nearest_neighbor_model.predict_proba(X_test)\n",
    "k_nearest_neighbor_accuracy = accuracy_score(y_test, k_nearest_neighbor_predicted)\n",
    "k_nearest_neighbor_model_accuracy = k_nearest_neighbor_model.score(X_test, y_test) \n",
    "k_nearest_neighbor_model_accuracy = (round(k_nearest_neighbor_model_accuracy, 2)*100)\n",
    "print(\"K Nearest Neighbor Accuracy: %.2f%%\" % (k_nearest_neighbor_model_accuracy))\n",
    "print(\"Model accuracy:\", k_nearest_neighbor_accuracy, \"%\")"
   ]
  },
  {
   "cell_type": "code",
   "execution_count": null,
   "id": "32368cbb",
   "metadata": {},
   "outputs": [],
   "source": [
    "k_nearest_neighbor_probability_data = pd.DataFrame(k_nearest_neighbor_probability)\n",
    "k_nearest_neighbor_probability_data"
   ]
  },
  {
   "cell_type": "code",
   "execution_count": null,
   "id": "8f4c9b4b",
   "metadata": {},
   "outputs": [],
   "source": [
    "k_nearest_neighbor_data = pd.concat([X_test, y_test], axis=1)\n",
    "k_nearest_neighbor_data = k_nearest_neighbor_data.reset_index(drop=True)\n",
    "k_nearest_neighbor_data[\"predicted\"] = k_nearest_neighbor_predicted\n",
    "k_nearest_neighbor_data[\"probability_0\"] = k_nearest_neighbor_probability_data[0]\n",
    "k_nearest_neighbor_data[\"probability_1\"] = k_nearest_neighbor_probability_data[1]\n",
    "k_nearest_neighbor_data['decile_rank'] = pd.cut(k_nearest_neighbor_data['probability_0'], 10, labels=False)\n",
    "k_nearest_neighbor_data['customer_id'] = len(list(train_id.values))\n",
    "k_nearest_neighbor_data.to_csv(\"k_nearest_neighbor_data.csv\")"
   ]
  },
  {
   "cell_type": "code",
   "execution_count": null,
   "id": "7c72b8c1",
   "metadata": {},
   "outputs": [],
   "source": []
  },
  {
   "cell_type": "code",
   "execution_count": null,
   "id": "d5d1f1aa",
   "metadata": {},
   "outputs": [],
   "source": []
  },
  {
   "cell_type": "code",
   "execution_count": null,
   "id": "e8acd264",
   "metadata": {},
   "outputs": [],
   "source": []
  },
  {
   "cell_type": "code",
   "execution_count": null,
   "id": "0ad3339a",
   "metadata": {},
   "outputs": [],
   "source": []
  }
 ],
 "metadata": {
  "kernelspec": {
   "display_name": "Python 3 (ipykernel)",
   "language": "python",
   "name": "python3"
  },
  "language_info": {
   "codemirror_mode": {
    "name": "ipython",
    "version": 3
   },
   "file_extension": ".py",
   "mimetype": "text/x-python",
   "name": "python",
   "nbconvert_exporter": "python",
   "pygments_lexer": "ipython3",
   "version": "3.9.7"
  }
 },
 "nbformat": 4,
 "nbformat_minor": 5
}
